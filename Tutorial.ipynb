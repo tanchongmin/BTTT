{
 "cells": [
  {
   "cell_type": "markdown",
   "id": "7170d8ee",
   "metadata": {},
   "source": [
    "## BTTT Environment Tutorial\n",
    "\n",
    "This IPython Notebook seeks to explain the basic functions of the BTTT gym environment and how to use it!"
   ]
  },
  {
   "cell_type": "markdown",
   "id": "cabe3ca3",
   "metadata": {},
   "source": [
    "# Initializaing\n",
    "To initialize the gym environment, run `gym()` to initialize an environment of empty grids."
   ]
  },
  {
   "cell_type": "code",
   "execution_count": 1,
   "id": "66d14adf",
   "metadata": {},
   "outputs": [],
   "source": [
    "from gym import *\n",
    "env = gym()"
   ]
  },
  {
   "cell_type": "markdown",
   "id": "87b8596b",
   "metadata": {},
   "source": [
    "# Visualizing\n",
    "Visualize the gym environment by using `env.printboard()`."
   ]
  },
  {
   "cell_type": "code",
   "execution_count": 2,
   "id": "6443c5ae",
   "metadata": {},
   "outputs": [
    {
     "name": "stdout",
     "output_type": "stream",
     "text": [
      "A| | | | | | | |\n",
      "B| | | | | | | |\n",
      "C| | | | | | | |\n",
      "D| | | | | | | |\n",
      "E| | | | | | | |\n",
      "F| | | | | | | |\n",
      "G| | | | | | | |\n",
      " ________________\n",
      " |1|2|3|4|5|6|7|\n"
     ]
    }
   ],
   "source": [
    "env.printboard()"
   ]
  },
  {
   "cell_type": "markdown",
   "id": "afb4e1c1",
   "metadata": {},
   "source": [
    "# Placing the starting stone\n",
    "The starting stone can be placed by using `env.place(grid, stone)`.\n",
    "\n",
    "This makes a move with the desired stone at (grid[0], grid[1]) without changing the player turn.\n",
    "\n",
    "Stone values mapped by:\n",
    "- 0: ' ' (blank)\n",
    "- 1: 'O' (Player 1 piece)\n",
    "- 2: 'X' (Player 2 piece)\n",
    "- 3: 'B' (Brick block)\n",
    "\n",
    "Note the index for the rows and columns starts at 0, so you can enter any valid index from 0 to 6 for a 7x7 grid.\n",
    "\n",
    "Below, we place the starting stone at the *D4* position, just like in Variant 1."
   ]
  },
  {
   "cell_type": "code",
   "execution_count": 3,
   "id": "90d03922",
   "metadata": {},
   "outputs": [
    {
     "name": "stdout",
     "output_type": "stream",
     "text": [
      "A| | | | | | | |\n",
      "B| | | | | | | |\n",
      "C| | | | | | | |\n",
      "D| | | |B| | | |\n",
      "E| | | | | | | |\n",
      "F| | | | | | | |\n",
      "G| | | | | | | |\n",
      " ________________\n",
      " |1|2|3|4|5|6|7|\n"
     ]
    }
   ],
   "source": [
    "env.place((3,3), 3)\n",
    "env.printboard()"
   ]
  },
  {
   "cell_type": "markdown",
   "id": "0cacba20",
   "metadata": {},
   "source": [
    "# Get list of valid moves\n",
    "The valid moves in the environment can be obtained by using `env.moves`, which returns a list of valid move indices. The valid moves are numbered from 0 to 48, which are basically the position of the grid cells counting from left to right, then top to bottom.\n",
    "\n",
    "Here, we can see move 24 is missing from the selection, as it is currently occupied by the brick. Any cell that is filled with Player 1's pieces (O), Player 2's pieces (X) or a brick block (B) will not be in the list of valid moves."
   ]
  },
  {
   "cell_type": "code",
   "execution_count": 4,
   "id": "871918a0",
   "metadata": {},
   "outputs": [
    {
     "data": {
      "text/plain": [
       "[0,\n",
       " 1,\n",
       " 2,\n",
       " 3,\n",
       " 4,\n",
       " 5,\n",
       " 6,\n",
       " 7,\n",
       " 8,\n",
       " 9,\n",
       " 10,\n",
       " 11,\n",
       " 12,\n",
       " 13,\n",
       " 14,\n",
       " 15,\n",
       " 16,\n",
       " 17,\n",
       " 18,\n",
       " 19,\n",
       " 20,\n",
       " 21,\n",
       " 22,\n",
       " 23,\n",
       " 25,\n",
       " 26,\n",
       " 27,\n",
       " 28,\n",
       " 29,\n",
       " 30,\n",
       " 31,\n",
       " 32,\n",
       " 33,\n",
       " 34,\n",
       " 35,\n",
       " 36,\n",
       " 37,\n",
       " 38,\n",
       " 39,\n",
       " 40,\n",
       " 41,\n",
       " 42,\n",
       " 43,\n",
       " 44,\n",
       " 45,\n",
       " 46,\n",
       " 47,\n",
       " 48]"
      ]
     },
     "execution_count": 4,
     "metadata": {},
     "output_type": "execute_result"
    }
   ],
   "source": [
    "env.moves"
   ]
  },
  {
   "cell_type": "markdown",
   "id": "4c254cb7",
   "metadata": {},
   "source": [
    "# Get other details for the current board state\n",
    "\n",
    "- `env.state` tells you the contents in the cell positions, in accordance to the stone value mapping given earlier.\n",
    "- `env.turn` tells you the turn of the current player to move, 1 for Player 1, 2 for Player 2. At start state, it is Player 1's turn to move.\n",
    "- `env.reward` gives a 1 if Player 1 wins, -1 if Player 2 wins, and 0 if it is a draw or the game is not won yet.\n",
    "- `env.done` gives a value of `True` if the game is won by any player or is a draw, `False` otherwise."
   ]
  },
  {
   "cell_type": "code",
   "execution_count": 5,
   "id": "3207e3e3",
   "metadata": {},
   "outputs": [
    {
     "data": {
      "text/plain": [
       "array([[0, 0, 0, 0, 0, 0, 0],\n",
       "       [0, 0, 0, 0, 0, 0, 0],\n",
       "       [0, 0, 0, 0, 0, 0, 0],\n",
       "       [0, 0, 0, 3, 0, 0, 0],\n",
       "       [0, 0, 0, 0, 0, 0, 0],\n",
       "       [0, 0, 0, 0, 0, 0, 0],\n",
       "       [0, 0, 0, 0, 0, 0, 0]])"
      ]
     },
     "execution_count": 5,
     "metadata": {},
     "output_type": "execute_result"
    }
   ],
   "source": [
    "env.state"
   ]
  },
  {
   "cell_type": "code",
   "execution_count": 6,
   "id": "8042c0fb",
   "metadata": {},
   "outputs": [
    {
     "data": {
      "text/plain": [
       "1"
      ]
     },
     "execution_count": 6,
     "metadata": {},
     "output_type": "execute_result"
    }
   ],
   "source": [
    "env.turn"
   ]
  },
  {
   "cell_type": "code",
   "execution_count": 7,
   "id": "2ab7f12a",
   "metadata": {},
   "outputs": [
    {
     "data": {
      "text/plain": [
       "0"
      ]
     },
     "execution_count": 7,
     "metadata": {},
     "output_type": "execute_result"
    }
   ],
   "source": [
    "env.reward"
   ]
  },
  {
   "cell_type": "markdown",
   "id": "24c5c450",
   "metadata": {},
   "source": [
    "# Make an action\n",
    "\n",
    "In order to make an action in the environment, use `env.step(action)`.\n",
    "\n",
    "Note that this action index must be one of the valid moves, it not the environment will not process the move and return `Invalid Move`.\n",
    "\n",
    "After making an action, `env.turn` will be updated to the next player.\n",
    "Also, if the game is won, or it is a draw, `env.reward` and `env.done` will be updated accordingly.\n",
    "\n",
    "Here, we make an action at the top left corner of the board (index 0)."
   ]
  },
  {
   "cell_type": "code",
   "execution_count": 8,
   "id": "8244cd2b",
   "metadata": {},
   "outputs": [],
   "source": [
    "env.step(0)"
   ]
  },
  {
   "cell_type": "markdown",
   "id": "c5cafab1",
   "metadata": {},
   "source": [
    "# Visualizing what happens after an action\n",
    "\n",
    "Now, we will see what has changed after our action. We will look at the following:\n",
    "- board state: The top left square has been updated to `1`. We can also visualize this using `printboard()`.\n",
    "- turn: This has been updated to `2`, indicating Player 2's turn.\n",
    "- reward: There is no change, since the game is not won or drawn yet.\n",
    "- done: There is no change, since the game is not won or drawn yet."
   ]
  },
  {
   "cell_type": "code",
   "execution_count": 9,
   "id": "af20a356",
   "metadata": {},
   "outputs": [
    {
     "data": {
      "text/plain": [
       "array([[1, 0, 0, 0, 0, 0, 0],\n",
       "       [0, 0, 0, 0, 0, 0, 0],\n",
       "       [0, 0, 0, 0, 0, 0, 0],\n",
       "       [0, 0, 0, 3, 0, 0, 0],\n",
       "       [0, 0, 0, 0, 0, 0, 0],\n",
       "       [0, 0, 0, 0, 0, 0, 0],\n",
       "       [0, 0, 0, 0, 0, 0, 0]])"
      ]
     },
     "execution_count": 9,
     "metadata": {},
     "output_type": "execute_result"
    }
   ],
   "source": [
    "env.state"
   ]
  },
  {
   "cell_type": "code",
   "execution_count": 10,
   "id": "916aaec8",
   "metadata": {},
   "outputs": [
    {
     "name": "stdout",
     "output_type": "stream",
     "text": [
      "A|O| | | | | | |\n",
      "B| | | | | | | |\n",
      "C| | | | | | | |\n",
      "D| | | |B| | | |\n",
      "E| | | | | | | |\n",
      "F| | | | | | | |\n",
      "G| | | | | | | |\n",
      " ________________\n",
      " |1|2|3|4|5|6|7|\n"
     ]
    }
   ],
   "source": [
    "env.printboard()"
   ]
  },
  {
   "cell_type": "code",
   "execution_count": 11,
   "id": "cedf591e",
   "metadata": {},
   "outputs": [
    {
     "data": {
      "text/plain": [
       "2"
      ]
     },
     "execution_count": 11,
     "metadata": {},
     "output_type": "execute_result"
    }
   ],
   "source": [
    "env.turn"
   ]
  },
  {
   "cell_type": "code",
   "execution_count": 12,
   "id": "cd231598",
   "metadata": {},
   "outputs": [
    {
     "data": {
      "text/plain": [
       "0"
      ]
     },
     "execution_count": 12,
     "metadata": {},
     "output_type": "execute_result"
    }
   ],
   "source": [
    "env.reward"
   ]
  },
  {
   "cell_type": "code",
   "execution_count": 13,
   "id": "94441727",
   "metadata": {},
   "outputs": [
    {
     "data": {
      "text/plain": [
       "False"
      ]
     },
     "execution_count": 13,
     "metadata": {},
     "output_type": "execute_result"
    }
   ],
   "source": [
    "env.done"
   ]
  },
  {
   "cell_type": "markdown",
   "id": "41e0d8f2",
   "metadata": {},
   "source": [
    "# Playing the game till completion\n",
    "\n",
    "Let us now play a game till completion.\n",
    "\n",
    "Note the `env.reward` and `env.done` have been updated to `1` and `True` respectively, indicating Player 1's win."
   ]
  },
  {
   "cell_type": "code",
   "execution_count": 14,
   "id": "234508fb",
   "metadata": {},
   "outputs": [
    {
     "name": "stdout",
     "output_type": "stream",
     "text": [
      "A|O|X| | | | | |\n",
      "B| | | | | | | |\n",
      "C| | | | | | | |\n",
      "D| | | |B| | | |\n",
      "E| | | | | | | |\n",
      "F| | | | | | | |\n",
      "G| | | | | | | |\n",
      " ________________\n",
      " |1|2|3|4|5|6|7|\n",
      "A|O|X| | | | | |\n",
      "B|O| | | | | | |\n",
      "C| | | | | | | |\n",
      "D| | | |B| | | |\n",
      "E| | | | | | | |\n",
      "F| | | | | | | |\n",
      "G| | | | | | | |\n",
      " ________________\n",
      " |1|2|3|4|5|6|7|\n",
      "A|O|X|X| | | | |\n",
      "B|O| | | | | | |\n",
      "C| | | | | | | |\n",
      "D| | | |B| | | |\n",
      "E| | | | | | | |\n",
      "F| | | | | | | |\n",
      "G| | | | | | | |\n",
      " ________________\n",
      " |1|2|3|4|5|6|7|\n",
      "A|O|X|X| | | | |\n",
      "B|O| | | | | | |\n",
      "C|O| | | | | | |\n",
      "D| | | |B| | | |\n",
      "E| | | | | | | |\n",
      "F| | | | | | | |\n",
      "G| | | | | | | |\n",
      " ________________\n",
      " |1|2|3|4|5|6|7|\n",
      "A|O|X|X|X| | | |\n",
      "B|O| | | | | | |\n",
      "C|O| | | | | | |\n",
      "D| | | |B| | | |\n",
      "E| | | | | | | |\n",
      "F| | | | | | | |\n",
      "G| | | | | | | |\n",
      " ________________\n",
      " |1|2|3|4|5|6|7|\n",
      "A|O|X|X|X| | | |\n",
      "B|O| | | | | | |\n",
      "C|O| | | | | | |\n",
      "D|O| | |B| | | |\n",
      "E| | | | | | | |\n",
      "F| | | | | | | |\n",
      "G| | | | | | | |\n",
      " ________________\n",
      " |1|2|3|4|5|6|7|\n"
     ]
    }
   ],
   "source": [
    "# Player 2 plays at index 1\n",
    "env.step(1)\n",
    "env.printboard()\n",
    "# Player 1 plays at index 7\n",
    "env.step(7)\n",
    "env.printboard()\n",
    "# Player 2 plays at index 2\n",
    "env.step(2)\n",
    "env.printboard()\n",
    "# Player 1 plays at index 14\n",
    "env.step(14)\n",
    "env.printboard()\n",
    "# Player 2 plays at index 3\n",
    "env.step(3)\n",
    "env.printboard()\n",
    "# Player 1 plays at index 21, winning the game\n",
    "env.step(21)\n",
    "env.printboard()"
   ]
  },
  {
   "cell_type": "code",
   "execution_count": 15,
   "id": "0fc5e26b",
   "metadata": {},
   "outputs": [
    {
     "data": {
      "text/plain": [
       "1"
      ]
     },
     "execution_count": 15,
     "metadata": {},
     "output_type": "execute_result"
    }
   ],
   "source": [
    "env.reward"
   ]
  },
  {
   "cell_type": "code",
   "execution_count": 16,
   "id": "d0e59d3b",
   "metadata": {},
   "outputs": [
    {
     "data": {
      "text/plain": [
       "True"
      ]
     },
     "execution_count": 16,
     "metadata": {},
     "output_type": "execute_result"
    }
   ],
   "source": [
    "env.done"
   ]
  },
  {
   "cell_type": "markdown",
   "id": "9d79df95",
   "metadata": {},
   "source": [
    "# Resetting the game\n",
    "In order to reset to the initial state (blank grid), use `env.reset()`."
   ]
  },
  {
   "cell_type": "code",
   "execution_count": 17,
   "id": "df60e2c1",
   "metadata": {},
   "outputs": [
    {
     "name": "stdout",
     "output_type": "stream",
     "text": [
      "A| | | | | | | |\n",
      "B| | | | | | | |\n",
      "C| | | | | | | |\n",
      "D| | | | | | | |\n",
      "E| | | | | | | |\n",
      "F| | | | | | | |\n",
      "G| | | | | | | |\n",
      " ________________\n",
      " |1|2|3|4|5|6|7|\n"
     ]
    }
   ],
   "source": [
    "env.reset()\n",
    "env.printboard()"
   ]
  },
  {
   "cell_type": "markdown",
   "id": "71f80210",
   "metadata": {},
   "source": [
    "# Resetting to a specific game state\n",
    "If you would like to reset to a board with an initial state (e.g. with the stone in the centre), you can change the initialstate parameter of `gym`."
   ]
  },
  {
   "cell_type": "code",
   "execution_count": 18,
   "id": "7dc347d0",
   "metadata": {},
   "outputs": [
    {
     "name": "stdout",
     "output_type": "stream",
     "text": [
      "[[0. 0. 0. 0. 0. 0. 0.]\n",
      " [0. 0. 0. 0. 0. 0. 0.]\n",
      " [0. 0. 0. 0. 0. 0. 0.]\n",
      " [0. 0. 0. 3. 0. 0. 0.]\n",
      " [0. 0. 0. 0. 0. 0. 0.]\n",
      " [0. 0. 0. 0. 0. 0. 0.]\n",
      " [0. 0. 0. 0. 0. 0. 0.]]\n"
     ]
    }
   ],
   "source": [
    "initialstate = np.zeros((7, 7))\n",
    "initialstate[3, 3] = 3\n",
    "print(initialstate)"
   ]
  },
  {
   "cell_type": "code",
   "execution_count": 19,
   "id": "a5be08d1",
   "metadata": {},
   "outputs": [],
   "source": [
    "env.initialstate = initialstate"
   ]
  },
  {
   "cell_type": "code",
   "execution_count": 20,
   "id": "a308eef9",
   "metadata": {},
   "outputs": [
    {
     "name": "stdout",
     "output_type": "stream",
     "text": [
      "A| | | | | | | |\n",
      "B| | | | | | | |\n",
      "C| | | | | | | |\n",
      "D| | | |B| | | |\n",
      "E| | | | | | | |\n",
      "F| | | | | | | |\n",
      "G| | | | | | | |\n",
      " ________________\n",
      " |1|2|3|4|5|6|7|\n"
     ]
    }
   ],
   "source": [
    "env.reset()\n",
    "env.printboard()"
   ]
  },
  {
   "cell_type": "markdown",
   "id": "4b891bbe",
   "metadata": {},
   "source": [
    "You can also initialize the gym environment with a specific initial state in order to do the same as the code above."
   ]
  },
  {
   "cell_type": "code",
   "execution_count": 21,
   "id": "77104d2e",
   "metadata": {},
   "outputs": [
    {
     "name": "stdout",
     "output_type": "stream",
     "text": [
      "A| | | | | | | |\n",
      "B| | | | | | | |\n",
      "C| | | | | | | |\n",
      "D| | | |B| | | |\n",
      "E| | | | | | | |\n",
      "F| | | | | | | |\n",
      "G| | | | | | | |\n",
      " ________________\n",
      " |1|2|3|4|5|6|7|\n"
     ]
    }
   ],
   "source": [
    "initialstate = np.zeros((7, 7))\n",
    "initialstate[3, 3] = 3\n",
    "env = gym(state = initialstate)\n",
    "env.printboard()"
   ]
  },
  {
   "cell_type": "markdown",
   "id": "d4ec3711",
   "metadata": {},
   "source": [
    "# Playing a random action\n",
    "In choose to play a random valid action, e.g. for random rollouts, use `env.sample()`.\n",
    "\n",
    "This does the same as `np.random.choice(env.moves)`."
   ]
  },
  {
   "cell_type": "code",
   "execution_count": 22,
   "id": "aae4dce3",
   "metadata": {},
   "outputs": [
    {
     "name": "stdout",
     "output_type": "stream",
     "text": [
      "A| | | | | | | |\n",
      "B| | | | | | | |\n",
      "C| | | | | | | |\n",
      "D| | | |B| | | |\n",
      "E| | | | | |O| |\n",
      "F| | | | | | | |\n",
      "G| | | | | | | |\n",
      " ________________\n",
      " |1|2|3|4|5|6|7|\n"
     ]
    }
   ],
   "source": [
    "action = env.sample()\n",
    "env.step(action)\n",
    "env.printboard()"
   ]
  },
  {
   "cell_type": "markdown",
   "id": "be8c5d8a",
   "metadata": {},
   "source": [
    "# A fully random game\n",
    "Let us play a game till completion!\n",
    "\n",
    "Keep running the next cell as many times as you like to see the various outcomes of Random vs Random!"
   ]
  },
  {
   "cell_type": "code",
   "execution_count": 23,
   "id": "cad39186",
   "metadata": {},
   "outputs": [
    {
     "name": "stdout",
     "output_type": "stream",
     "text": [
      "A| | |X|O| |O| |\n",
      "B|X|O| |X|X|O|O|\n",
      "C| |O| | |O| |X|\n",
      "D|O|X| |B| | |O|\n",
      "E| |X| |O| |O| |\n",
      "F|O|X|X| |X|X| |\n",
      "G| |X| | |O|X| |\n",
      " ________________\n",
      " |1|2|3|4|5|6|7|\n",
      "Player 2 (X) won!\n"
     ]
    }
   ],
   "source": [
    "env.reset()\n",
    "\n",
    "while not env.done:\n",
    "    action = env.sample()\n",
    "    env.step(action)\n",
    "\n",
    "env.printboard()\n",
    "if env.reward == 1:\n",
    "    print('Player 1 (O) won!')\n",
    "elif env.reward == -1:\n",
    "    print('Player 2 (X) won!')\n",
    "else:\n",
    "    print('It is a draw!')"
   ]
  },
  {
   "cell_type": "markdown",
   "id": "eb45dcda",
   "metadata": {},
   "source": [
    "# Extracting the key contents of the environment\n",
    "\n",
    "If you would need to extract out the key contents of the environment to store elsewhere for retrieval later on (e.g. to store game state in a game tree node), you can use `env.get_state()`.\n",
    "\n",
    "This returns the following:\n",
    "- `env.state`\n",
    "- `env.turn`\n",
    "- `env.reward`\n",
    "- `env.done`"
   ]
  },
  {
   "cell_type": "code",
   "execution_count": 24,
   "id": "14e66d61",
   "metadata": {},
   "outputs": [
    {
     "name": "stdout",
     "output_type": "stream",
     "text": [
      "A| | | | | | | |\n",
      "B| | | | | | | |\n",
      "C| | | | | | | |\n",
      "D| | | |B| | | |\n",
      "E| | | | | | | |\n",
      "F| | | | | | | |\n",
      "G| | | | |O| | |\n",
      " ________________\n",
      " |1|2|3|4|5|6|7|\n"
     ]
    }
   ],
   "source": [
    "# This gives a particular board state after Player 1's move\n",
    "env.reset()\n",
    "env.step(env.sample())\n",
    "env.printboard()\n",
    "\n",
    "state, turn, reward, done = env.get_state()"
   ]
  },
  {
   "cell_type": "markdown",
   "id": "69a1ef3a",
   "metadata": {},
   "source": [
    "# Reloading back the game state\n",
    "\n",
    "To reload the game state, initialize the gym environment with the game state parameters"
   ]
  },
  {
   "cell_type": "code",
   "execution_count": 25,
   "id": "5cbeb937",
   "metadata": {},
   "outputs": [
    {
     "name": "stdout",
     "output_type": "stream",
     "text": [
      "A| | | | | | | |\n",
      "B| | | | | | | |\n",
      "C| | | | | | | |\n",
      "D| | | |B| | | |\n",
      "E| | | | | | | |\n",
      "F| | | | | | | |\n",
      "G| | | | |O| | |\n",
      " ________________\n",
      " |1|2|3|4|5|6|7|\n"
     ]
    }
   ],
   "source": [
    "env.reset()\n",
    "env = gym(state = state, turn = turn, reward = reward, done = done)\n",
    "env.printboard()"
   ]
  },
  {
   "cell_type": "markdown",
   "id": "785d32d5",
   "metadata": {},
   "source": [
    "# Duplicating an exact copy of the environment\n",
    "\n",
    "If you would need to duplicate an exact copy of the environment to store elsewhere for retrieval later (e.g. to store game state in a game tree node), you can use `env.get_env()`\n",
    "\n",
    "This is a `deepcopy` of the environment, so whatever changes you make in either environment will not affect the other.\n",
    "\n",
    "You can use this to do parallel playthroughs of the game."
   ]
  },
  {
   "cell_type": "code",
   "execution_count": 26,
   "id": "edf08467",
   "metadata": {},
   "outputs": [
    {
     "name": "stdout",
     "output_type": "stream",
     "text": [
      "A| | | | | | | |\n",
      "B| | | | | | | |\n",
      "C| | | | | | | |\n",
      "D| | | |B| | | |\n",
      "E| | | | | | | |\n",
      "F| | | | | | | |\n",
      "G| | | | |O| | |\n",
      " ________________\n",
      " |1|2|3|4|5|6|7|\n"
     ]
    }
   ],
   "source": [
    "newenv = env.get_env()\n",
    "newenv.printboard()"
   ]
  },
  {
   "cell_type": "code",
   "execution_count": 27,
   "id": "77a66b3c",
   "metadata": {},
   "outputs": [
    {
     "name": "stdout",
     "output_type": "stream",
     "text": [
      "A| | | | | | | |\n",
      "B| | | | | | | |\n",
      "C| |X| | | | | |\n",
      "D| |O| |B| | | |\n",
      "E| | | | | | | |\n",
      "F| | | | | | | |\n",
      "G| | | | |O| | |\n",
      " ________________\n",
      " |1|2|3|4|5|6|7|\n"
     ]
    }
   ],
   "source": [
    "# Play some other random moves in original environment\n",
    "env.step(env.sample())\n",
    "env.step(env.sample())\n",
    "env.printboard()"
   ]
  },
  {
   "cell_type": "code",
   "execution_count": 28,
   "id": "c8486165",
   "metadata": {},
   "outputs": [
    {
     "name": "stdout",
     "output_type": "stream",
     "text": [
      "A| | | | | | | |\n",
      "B| | | | | | | |\n",
      "C| | | | | | | |\n",
      "D| | | |B| | | |\n",
      "E| | | | | | | |\n",
      "F| | | | | | | |\n",
      "G| | | | |O| | |\n",
      " ________________\n",
      " |1|2|3|4|5|6|7|\n"
     ]
    }
   ],
   "source": [
    "# The new environment is not affected by changes in the original environment\n",
    "newenv.printboard()"
   ]
  },
  {
   "cell_type": "markdown",
   "id": "b095d079",
   "metadata": {},
   "source": [
    "# Advanced: Getting the tensor representation of the environment\n",
    "\n",
    "If you would need to use deep learning methods for your agent, and would require a tensor representation of the environment, there is an in-built function to do that.\n",
    "\n",
    "It converts the game state into 4 7x7 planes:\n",
    "- Plane 1: Turn of Player (Entire plane of 1 for Player 1, entire plane of 0 for Player 2)\n",
    "- Plane 2: Position of Player 1's (O) pieces (1 for grid cell which has Player 1's piece, 0 otherwise)\n",
    "- Plane 3: Position of Player 2's (X) pieces (1 for grid cell which has Player 2's piece, 0 otherwise)\n",
    "- Plane 4: Position of brick blocks (B) (1 for grid cell which has a brick block, 0 otherwise)\n",
    "\n",
    "This tensor form is in a numpy array format, so you would still have to convert it into the tensor form of your desired deep learning framework (e.g. PyTorch, TensorFlow)"
   ]
  },
  {
   "cell_type": "code",
   "execution_count": 29,
   "id": "399b23ba",
   "metadata": {},
   "outputs": [
    {
     "name": "stdout",
     "output_type": "stream",
     "text": [
      "A| | | | | | | |\n",
      "B| | | | | | | |\n",
      "C| | | | | | | |\n",
      "D| | | |B| | | |\n",
      "E| | | | | | | |\n",
      "F| | | | | | | |\n",
      "G| | | | |O| | |\n",
      " ________________\n",
      " |1|2|3|4|5|6|7|\n"
     ]
    }
   ],
   "source": [
    "newenv.printboard()\n",
    "tensor_state = newenv.get_tensor_state()"
   ]
  },
  {
   "cell_type": "code",
   "execution_count": 30,
   "id": "70c48bee",
   "metadata": {},
   "outputs": [
    {
     "data": {
      "text/plain": [
       "array([[[-1., -1., -1., -1., -1., -1., -1.],\n",
       "        [-1., -1., -1., -1., -1., -1., -1.],\n",
       "        [-1., -1., -1., -1., -1., -1., -1.],\n",
       "        [-1., -1., -1., -1., -1., -1., -1.],\n",
       "        [-1., -1., -1., -1., -1., -1., -1.],\n",
       "        [-1., -1., -1., -1., -1., -1., -1.],\n",
       "        [-1., -1., -1., -1., -1., -1., -1.]],\n",
       "\n",
       "       [[ 0.,  0.,  0.,  0.,  0.,  0.,  0.],\n",
       "        [ 0.,  0.,  0.,  0.,  0.,  0.,  0.],\n",
       "        [ 0.,  0.,  0.,  0.,  0.,  0.,  0.],\n",
       "        [ 0.,  0.,  0.,  0.,  0.,  0.,  0.],\n",
       "        [ 0.,  0.,  0.,  0.,  0.,  0.,  0.],\n",
       "        [ 0.,  0.,  0.,  0.,  0.,  0.,  0.],\n",
       "        [ 0.,  0.,  0.,  0.,  1.,  0.,  0.]],\n",
       "\n",
       "       [[ 0.,  0.,  0.,  0.,  0.,  0.,  0.],\n",
       "        [ 0.,  0.,  0.,  0.,  0.,  0.,  0.],\n",
       "        [ 0.,  0.,  0.,  0.,  0.,  0.,  0.],\n",
       "        [ 0.,  0.,  0.,  0.,  0.,  0.,  0.],\n",
       "        [ 0.,  0.,  0.,  0.,  0.,  0.,  0.],\n",
       "        [ 0.,  0.,  0.,  0.,  0.,  0.,  0.],\n",
       "        [ 0.,  0.,  0.,  0.,  0.,  0.,  0.]],\n",
       "\n",
       "       [[ 0.,  0.,  0.,  0.,  0.,  0.,  0.],\n",
       "        [ 0.,  0.,  0.,  0.,  0.,  0.,  0.],\n",
       "        [ 0.,  0.,  0.,  0.,  0.,  0.,  0.],\n",
       "        [ 0.,  0.,  0.,  1.,  0.,  0.,  0.],\n",
       "        [ 0.,  0.,  0.,  0.,  0.,  0.,  0.],\n",
       "        [ 0.,  0.,  0.,  0.,  0.,  0.,  0.],\n",
       "        [ 0.,  0.,  0.,  0.,  0.,  0.,  0.]]])"
      ]
     },
     "execution_count": 30,
     "metadata": {},
     "output_type": "execute_result"
    }
   ],
   "source": [
    "tensor_state"
   ]
  },
  {
   "cell_type": "markdown",
   "id": "c5afd8a2",
   "metadata": {},
   "source": [
    "# Conclusion\n",
    "\n",
    "We have come to the end of the BTTT gym environment tutorial!\n",
    "\n",
    "We hope you are now able to use the BTTT gym environment to construct your own agent to play the game of BTTT.\n",
    "\n",
    "Do note that in the BTTT tournament `main.py`, the agent takes in the env itself as input, and should output a valid action index."
   ]
  }
 ],
 "metadata": {
  "kernelspec": {
   "display_name": "Python 3",
   "language": "python",
   "name": "python3"
  },
  "language_info": {
   "codemirror_mode": {
    "name": "ipython",
    "version": 3
   },
   "file_extension": ".py",
   "mimetype": "text/x-python",
   "name": "python",
   "nbconvert_exporter": "python",
   "pygments_lexer": "ipython3",
   "version": "3.8.2"
  }
 },
 "nbformat": 4,
 "nbformat_minor": 5
}
